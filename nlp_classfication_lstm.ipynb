{
  "nbformat": 4,
  "nbformat_minor": 0,
  "metadata": {
    "colab": {
      "name": "nlp_classfication_lstm.ipynb",
      "provenance": [],
      "collapsed_sections": []
    },
    "kernelspec": {
      "name": "python3",
      "display_name": "Python 3"
    },
    "language_info": {
      "name": "python"
    }
  },
  "cells": [
    {
      "cell_type": "markdown",
      "source": [
        "# NLP Classification using LSTM\n",
        "- This tutorial covers developing an `LSTM` model to classify text data.\n",
        "- Dataset used for analysis is [Clickbait Dataset](https://www.kaggle.com/datasets/amananandrai/clickbait-dataset) taken from Kaggle website.\n",
        "- Binary classification models are developed on this dataset to identify if the given news headline text a clickbait headline or not\n",
        "- Two different LSTM models are built in the `Tensorflow` framework:\n",
        "  - Model 1 calculates new embeddings during model developement.\n",
        "  - Model 2 uses Stanford's pre-trained glove embeddings\n",
        "  "
      ],
      "metadata": {
        "id": "u0VJlt9qFlxB"
      }
    },
    {
      "cell_type": "code",
      "execution_count": 1,
      "metadata": {
        "id": "GO-pjpADXy5F"
      },
      "outputs": [],
      "source": [
        "# importing libraries necessary for data cleaning, text  pre-processing, model developement etc\n",
        "\n",
        "import pandas as pd\n",
        "import numpy as np\n",
        "import tensorflow as tf\n",
        "import matplotlib.pyplot as plt\n",
        "import re\n",
        "import collections\n",
        "\n",
        "from matplotlib.legend import Legend\n",
        "from numpy import array\n",
        "from numpy import asarray\n",
        "from numpy import zeros\n",
        "from sklearn.model_selection import train_test_split\n",
        "\n",
        "from tensorflow.keras.preprocessing.text import Tokenizer\n",
        "from tensorflow.keras.preprocessing.sequence import pad_sequences\n",
        "from tensorflow.keras import Sequential\n",
        "from tensorflow.keras.layers import Embedding, LSTM, Dense, Dropout\n",
        "from tensorflow.keras.callbacks import EarlyStopping\n",
        "\n",
        "import warnings\n",
        "from warnings import filterwarnings\n",
        "filterwarnings('ignore')"
      ]
    },
    {
      "cell_type": "code",
      "source": [
        "# # download and unzip pre-trained glove embeddings\n",
        "\n",
        "# !wget  -P '/content/' 'http://nlp.stanford.edu/data/glove.6B.zip'\n",
        "# !unzip '/content/glove.6B.zip' -d '/content/glove/'"
      ],
      "metadata": {
        "id": "UCApgS3w0sAW"
      },
      "execution_count": 33,
      "outputs": []
    },
    {
      "cell_type": "markdown",
      "source": [
        "### 1. Data import and Target definition"
      ],
      "metadata": {
        "id": "L02obCczEEcv"
      }
    },
    {
      "cell_type": "code",
      "source": [
        "#importing model development data\n",
        "\n",
        "df = pd.read_csv('/content/Clickbait.csv')\n",
        "print(df.head())\n",
        "print(df.tail())\n",
        "print(df.shape)"
      ],
      "metadata": {
        "colab": {
          "base_uri": "https://localhost:8080/"
        },
        "id": "S-Nk5spibN4W",
        "outputId": "6542081b-4634-4a0d-ea4d-661e1e859571"
      },
      "execution_count": 3,
      "outputs": [
        {
          "output_type": "stream",
          "name": "stdout",
          "text": [
            "                                            headline  clickbait\n",
            "0                                 Should I Get Bings          1\n",
            "1      Which TV Female Friend Group Do You Belong In          1\n",
            "2  The New \"Star Wars: The Force Awakens\" Trailer...          1\n",
            "3  This Vine Of New York On \"Celebrity Big Brothe...          1\n",
            "4  A Couple Did A Stunning Photo Shoot With Their...          1\n",
            "                                                headline  clickbait\n",
            "31995  To Make Female Hearts Flutter in Iraq, Throw a...          0\n",
            "31996  British Liberal Democrat Patsy Calton, 56, die...          0\n",
            "31997  Drone smartphone app to help heart attack vict...          0\n",
            "31998  Netanyahu Urges Pope Benedict, in Israel, to D...          0\n",
            "31999  Computer Makers Prepare to Stake Bigger Claim ...          0\n",
            "(32000, 2)\n"
          ]
        }
      ]
    },
    {
      "cell_type": "code",
      "source": [
        "df.columns"
      ],
      "metadata": {
        "colab": {
          "base_uri": "https://localhost:8080/"
        },
        "id": "eSbc25YBbXFz",
        "outputId": "2d81ab54-1064-4b4e-a601-41d112429944"
      },
      "execution_count": 4,
      "outputs": [
        {
          "output_type": "execute_result",
          "data": {
            "text/plain": [
              "Index(['headline', 'clickbait'], dtype='object')"
            ]
          },
          "metadata": {},
          "execution_count": 4
        }
      ]
    },
    {
      "cell_type": "code",
      "source": [
        "df1 = df.copy()"
      ],
      "metadata": {
        "id": "S2tAIEqVbm5C"
      },
      "execution_count": 5,
      "outputs": []
    },
    {
      "cell_type": "markdown",
      "source": [
        "### 2. Text data cleaning and pre-processing"
      ],
      "metadata": {
        "id": "nJiuKrkIHaGZ"
      }
    },
    {
      "cell_type": "code",
      "source": [
        "# Removing HTTP tags from 'headline' column and saving results in a new column : 'headline_processed'\n",
        "df1['headline_processed'] = (df1['headline']\n",
        "                             .map(lambda x : ' '.join(re.sub('(@[A-Za-z0-9]+)|([^0-9A-Za-z \\t])|(\\w+:\\/\\/\\S+)','',x).split())))\n",
        "df1.head()"
      ],
      "metadata": {
        "colab": {
          "base_uri": "https://localhost:8080/",
          "height": 206
        },
        "id": "9WWrxCVqby6x",
        "outputId": "f862913a-9594-4ab6-c15d-f4395f7ce2f2"
      },
      "execution_count": 6,
      "outputs": [
        {
          "output_type": "execute_result",
          "data": {
            "text/plain": [
              "                                            headline  clickbait  \\\n",
              "0                                 Should I Get Bings          1   \n",
              "1      Which TV Female Friend Group Do You Belong In          1   \n",
              "2  The New \"Star Wars: The Force Awakens\" Trailer...          1   \n",
              "3  This Vine Of New York On \"Celebrity Big Brothe...          1   \n",
              "4  A Couple Did A Stunning Photo Shoot With Their...          1   \n",
              "\n",
              "                                  headline_processed  \n",
              "0                                 Should I Get Bings  \n",
              "1      Which TV Female Friend Group Do You Belong In  \n",
              "2  The New Star Wars The Force Awakens Trailer Is...  \n",
              "3  This Vine Of New York On Celebrity Big Brother...  \n",
              "4  A Couple Did A Stunning Photo Shoot With Their...  "
            ],
            "text/html": [
              "\n",
              "  <div id=\"df-a729a397-ab5d-47f0-ae26-6459395ca373\">\n",
              "    <div class=\"colab-df-container\">\n",
              "      <div>\n",
              "<style scoped>\n",
              "    .dataframe tbody tr th:only-of-type {\n",
              "        vertical-align: middle;\n",
              "    }\n",
              "\n",
              "    .dataframe tbody tr th {\n",
              "        vertical-align: top;\n",
              "    }\n",
              "\n",
              "    .dataframe thead th {\n",
              "        text-align: right;\n",
              "    }\n",
              "</style>\n",
              "<table border=\"1\" class=\"dataframe\">\n",
              "  <thead>\n",
              "    <tr style=\"text-align: right;\">\n",
              "      <th></th>\n",
              "      <th>headline</th>\n",
              "      <th>clickbait</th>\n",
              "      <th>headline_processed</th>\n",
              "    </tr>\n",
              "  </thead>\n",
              "  <tbody>\n",
              "    <tr>\n",
              "      <th>0</th>\n",
              "      <td>Should I Get Bings</td>\n",
              "      <td>1</td>\n",
              "      <td>Should I Get Bings</td>\n",
              "    </tr>\n",
              "    <tr>\n",
              "      <th>1</th>\n",
              "      <td>Which TV Female Friend Group Do You Belong In</td>\n",
              "      <td>1</td>\n",
              "      <td>Which TV Female Friend Group Do You Belong In</td>\n",
              "    </tr>\n",
              "    <tr>\n",
              "      <th>2</th>\n",
              "      <td>The New \"Star Wars: The Force Awakens\" Trailer...</td>\n",
              "      <td>1</td>\n",
              "      <td>The New Star Wars The Force Awakens Trailer Is...</td>\n",
              "    </tr>\n",
              "    <tr>\n",
              "      <th>3</th>\n",
              "      <td>This Vine Of New York On \"Celebrity Big Brothe...</td>\n",
              "      <td>1</td>\n",
              "      <td>This Vine Of New York On Celebrity Big Brother...</td>\n",
              "    </tr>\n",
              "    <tr>\n",
              "      <th>4</th>\n",
              "      <td>A Couple Did A Stunning Photo Shoot With Their...</td>\n",
              "      <td>1</td>\n",
              "      <td>A Couple Did A Stunning Photo Shoot With Their...</td>\n",
              "    </tr>\n",
              "  </tbody>\n",
              "</table>\n",
              "</div>\n",
              "      <button class=\"colab-df-convert\" onclick=\"convertToInteractive('df-a729a397-ab5d-47f0-ae26-6459395ca373')\"\n",
              "              title=\"Convert this dataframe to an interactive table.\"\n",
              "              style=\"display:none;\">\n",
              "        \n",
              "  <svg xmlns=\"http://www.w3.org/2000/svg\" height=\"24px\"viewBox=\"0 0 24 24\"\n",
              "       width=\"24px\">\n",
              "    <path d=\"M0 0h24v24H0V0z\" fill=\"none\"/>\n",
              "    <path d=\"M18.56 5.44l.94 2.06.94-2.06 2.06-.94-2.06-.94-.94-2.06-.94 2.06-2.06.94zm-11 1L8.5 8.5l.94-2.06 2.06-.94-2.06-.94L8.5 2.5l-.94 2.06-2.06.94zm10 10l.94 2.06.94-2.06 2.06-.94-2.06-.94-.94-2.06-.94 2.06-2.06.94z\"/><path d=\"M17.41 7.96l-1.37-1.37c-.4-.4-.92-.59-1.43-.59-.52 0-1.04.2-1.43.59L10.3 9.45l-7.72 7.72c-.78.78-.78 2.05 0 2.83L4 21.41c.39.39.9.59 1.41.59.51 0 1.02-.2 1.41-.59l7.78-7.78 2.81-2.81c.8-.78.8-2.07 0-2.86zM5.41 20L4 18.59l7.72-7.72 1.47 1.35L5.41 20z\"/>\n",
              "  </svg>\n",
              "      </button>\n",
              "      \n",
              "  <style>\n",
              "    .colab-df-container {\n",
              "      display:flex;\n",
              "      flex-wrap:wrap;\n",
              "      gap: 12px;\n",
              "    }\n",
              "\n",
              "    .colab-df-convert {\n",
              "      background-color: #E8F0FE;\n",
              "      border: none;\n",
              "      border-radius: 50%;\n",
              "      cursor: pointer;\n",
              "      display: none;\n",
              "      fill: #1967D2;\n",
              "      height: 32px;\n",
              "      padding: 0 0 0 0;\n",
              "      width: 32px;\n",
              "    }\n",
              "\n",
              "    .colab-df-convert:hover {\n",
              "      background-color: #E2EBFA;\n",
              "      box-shadow: 0px 1px 2px rgba(60, 64, 67, 0.3), 0px 1px 3px 1px rgba(60, 64, 67, 0.15);\n",
              "      fill: #174EA6;\n",
              "    }\n",
              "\n",
              "    [theme=dark] .colab-df-convert {\n",
              "      background-color: #3B4455;\n",
              "      fill: #D2E3FC;\n",
              "    }\n",
              "\n",
              "    [theme=dark] .colab-df-convert:hover {\n",
              "      background-color: #434B5C;\n",
              "      box-shadow: 0px 1px 3px 1px rgba(0, 0, 0, 0.15);\n",
              "      filter: drop-shadow(0px 1px 2px rgba(0, 0, 0, 0.3));\n",
              "      fill: #FFFFFF;\n",
              "    }\n",
              "  </style>\n",
              "\n",
              "      <script>\n",
              "        const buttonEl =\n",
              "          document.querySelector('#df-a729a397-ab5d-47f0-ae26-6459395ca373 button.colab-df-convert');\n",
              "        buttonEl.style.display =\n",
              "          google.colab.kernel.accessAllowed ? 'block' : 'none';\n",
              "\n",
              "        async function convertToInteractive(key) {\n",
              "          const element = document.querySelector('#df-a729a397-ab5d-47f0-ae26-6459395ca373');\n",
              "          const dataTable =\n",
              "            await google.colab.kernel.invokeFunction('convertToInteractive',\n",
              "                                                     [key], {});\n",
              "          if (!dataTable) return;\n",
              "\n",
              "          const docLinkHtml = 'Like what you see? Visit the ' +\n",
              "            '<a target=\"_blank\" href=https://colab.research.google.com/notebooks/data_table.ipynb>data table notebook</a>'\n",
              "            + ' to learn more about interactive tables.';\n",
              "          element.innerHTML = '';\n",
              "          dataTable['output_type'] = 'display_data';\n",
              "          await google.colab.output.renderOutput(dataTable, element);\n",
              "          const docLink = document.createElement('div');\n",
              "          docLink.innerHTML = docLinkHtml;\n",
              "          element.appendChild(docLink);\n",
              "        }\n",
              "      </script>\n",
              "    </div>\n",
              "  </div>\n",
              "  "
            ]
          },
          "metadata": {},
          "execution_count": 6
        }
      ]
    },
    {
      "cell_type": "code",
      "source": [
        "# Converting the text in 'headline_processed' column to lowercase\n",
        "df1['headline_processed'] = (df1['headline_processed']\n",
        "                             .map(lambda x: x.lower()))\n",
        "df1.head()"
      ],
      "metadata": {
        "colab": {
          "base_uri": "https://localhost:8080/",
          "height": 206
        },
        "id": "al-pnzSZb4ER",
        "outputId": "1b516432-1539-40fd-89c1-776941bca38c"
      },
      "execution_count": 7,
      "outputs": [
        {
          "output_type": "execute_result",
          "data": {
            "text/plain": [
              "                                            headline  clickbait  \\\n",
              "0                                 Should I Get Bings          1   \n",
              "1      Which TV Female Friend Group Do You Belong In          1   \n",
              "2  The New \"Star Wars: The Force Awakens\" Trailer...          1   \n",
              "3  This Vine Of New York On \"Celebrity Big Brothe...          1   \n",
              "4  A Couple Did A Stunning Photo Shoot With Their...          1   \n",
              "\n",
              "                                  headline_processed  \n",
              "0                                 should i get bings  \n",
              "1      which tv female friend group do you belong in  \n",
              "2  the new star wars the force awakens trailer is...  \n",
              "3  this vine of new york on celebrity big brother...  \n",
              "4  a couple did a stunning photo shoot with their...  "
            ],
            "text/html": [
              "\n",
              "  <div id=\"df-d0cf85bf-cd68-42e7-9410-7c8b06d32566\">\n",
              "    <div class=\"colab-df-container\">\n",
              "      <div>\n",
              "<style scoped>\n",
              "    .dataframe tbody tr th:only-of-type {\n",
              "        vertical-align: middle;\n",
              "    }\n",
              "\n",
              "    .dataframe tbody tr th {\n",
              "        vertical-align: top;\n",
              "    }\n",
              "\n",
              "    .dataframe thead th {\n",
              "        text-align: right;\n",
              "    }\n",
              "</style>\n",
              "<table border=\"1\" class=\"dataframe\">\n",
              "  <thead>\n",
              "    <tr style=\"text-align: right;\">\n",
              "      <th></th>\n",
              "      <th>headline</th>\n",
              "      <th>clickbait</th>\n",
              "      <th>headline_processed</th>\n",
              "    </tr>\n",
              "  </thead>\n",
              "  <tbody>\n",
              "    <tr>\n",
              "      <th>0</th>\n",
              "      <td>Should I Get Bings</td>\n",
              "      <td>1</td>\n",
              "      <td>should i get bings</td>\n",
              "    </tr>\n",
              "    <tr>\n",
              "      <th>1</th>\n",
              "      <td>Which TV Female Friend Group Do You Belong In</td>\n",
              "      <td>1</td>\n",
              "      <td>which tv female friend group do you belong in</td>\n",
              "    </tr>\n",
              "    <tr>\n",
              "      <th>2</th>\n",
              "      <td>The New \"Star Wars: The Force Awakens\" Trailer...</td>\n",
              "      <td>1</td>\n",
              "      <td>the new star wars the force awakens trailer is...</td>\n",
              "    </tr>\n",
              "    <tr>\n",
              "      <th>3</th>\n",
              "      <td>This Vine Of New York On \"Celebrity Big Brothe...</td>\n",
              "      <td>1</td>\n",
              "      <td>this vine of new york on celebrity big brother...</td>\n",
              "    </tr>\n",
              "    <tr>\n",
              "      <th>4</th>\n",
              "      <td>A Couple Did A Stunning Photo Shoot With Their...</td>\n",
              "      <td>1</td>\n",
              "      <td>a couple did a stunning photo shoot with their...</td>\n",
              "    </tr>\n",
              "  </tbody>\n",
              "</table>\n",
              "</div>\n",
              "      <button class=\"colab-df-convert\" onclick=\"convertToInteractive('df-d0cf85bf-cd68-42e7-9410-7c8b06d32566')\"\n",
              "              title=\"Convert this dataframe to an interactive table.\"\n",
              "              style=\"display:none;\">\n",
              "        \n",
              "  <svg xmlns=\"http://www.w3.org/2000/svg\" height=\"24px\"viewBox=\"0 0 24 24\"\n",
              "       width=\"24px\">\n",
              "    <path d=\"M0 0h24v24H0V0z\" fill=\"none\"/>\n",
              "    <path d=\"M18.56 5.44l.94 2.06.94-2.06 2.06-.94-2.06-.94-.94-2.06-.94 2.06-2.06.94zm-11 1L8.5 8.5l.94-2.06 2.06-.94-2.06-.94L8.5 2.5l-.94 2.06-2.06.94zm10 10l.94 2.06.94-2.06 2.06-.94-2.06-.94-.94-2.06-.94 2.06-2.06.94z\"/><path d=\"M17.41 7.96l-1.37-1.37c-.4-.4-.92-.59-1.43-.59-.52 0-1.04.2-1.43.59L10.3 9.45l-7.72 7.72c-.78.78-.78 2.05 0 2.83L4 21.41c.39.39.9.59 1.41.59.51 0 1.02-.2 1.41-.59l7.78-7.78 2.81-2.81c.8-.78.8-2.07 0-2.86zM5.41 20L4 18.59l7.72-7.72 1.47 1.35L5.41 20z\"/>\n",
              "  </svg>\n",
              "      </button>\n",
              "      \n",
              "  <style>\n",
              "    .colab-df-container {\n",
              "      display:flex;\n",
              "      flex-wrap:wrap;\n",
              "      gap: 12px;\n",
              "    }\n",
              "\n",
              "    .colab-df-convert {\n",
              "      background-color: #E8F0FE;\n",
              "      border: none;\n",
              "      border-radius: 50%;\n",
              "      cursor: pointer;\n",
              "      display: none;\n",
              "      fill: #1967D2;\n",
              "      height: 32px;\n",
              "      padding: 0 0 0 0;\n",
              "      width: 32px;\n",
              "    }\n",
              "\n",
              "    .colab-df-convert:hover {\n",
              "      background-color: #E2EBFA;\n",
              "      box-shadow: 0px 1px 2px rgba(60, 64, 67, 0.3), 0px 1px 3px 1px rgba(60, 64, 67, 0.15);\n",
              "      fill: #174EA6;\n",
              "    }\n",
              "\n",
              "    [theme=dark] .colab-df-convert {\n",
              "      background-color: #3B4455;\n",
              "      fill: #D2E3FC;\n",
              "    }\n",
              "\n",
              "    [theme=dark] .colab-df-convert:hover {\n",
              "      background-color: #434B5C;\n",
              "      box-shadow: 0px 1px 3px 1px rgba(0, 0, 0, 0.15);\n",
              "      filter: drop-shadow(0px 1px 2px rgba(0, 0, 0, 0.3));\n",
              "      fill: #FFFFFF;\n",
              "    }\n",
              "  </style>\n",
              "\n",
              "      <script>\n",
              "        const buttonEl =\n",
              "          document.querySelector('#df-d0cf85bf-cd68-42e7-9410-7c8b06d32566 button.colab-df-convert');\n",
              "        buttonEl.style.display =\n",
              "          google.colab.kernel.accessAllowed ? 'block' : 'none';\n",
              "\n",
              "        async function convertToInteractive(key) {\n",
              "          const element = document.querySelector('#df-d0cf85bf-cd68-42e7-9410-7c8b06d32566');\n",
              "          const dataTable =\n",
              "            await google.colab.kernel.invokeFunction('convertToInteractive',\n",
              "                                                     [key], {});\n",
              "          if (!dataTable) return;\n",
              "\n",
              "          const docLinkHtml = 'Like what you see? Visit the ' +\n",
              "            '<a target=\"_blank\" href=https://colab.research.google.com/notebooks/data_table.ipynb>data table notebook</a>'\n",
              "            + ' to learn more about interactive tables.';\n",
              "          element.innerHTML = '';\n",
              "          dataTable['output_type'] = 'display_data';\n",
              "          await google.colab.output.renderOutput(dataTable, element);\n",
              "          const docLink = document.createElement('div');\n",
              "          docLink.innerHTML = docLinkHtml;\n",
              "          element.appendChild(docLink);\n",
              "        }\n",
              "      </script>\n",
              "    </div>\n",
              "  </div>\n",
              "  "
            ]
          },
          "metadata": {},
          "execution_count": 7
        }
      ]
    },
    {
      "cell_type": "code",
      "source": [
        "# Converting the text in 'headline_processed' column to lowercase\n",
        "df1['headline_processed'] = (df1['headline_processed']\n",
        "                             .map(lambda x: re.sub(r'[^\\w\\s]', '', x)))\n",
        "df1.head()"
      ],
      "metadata": {
        "colab": {
          "base_uri": "https://localhost:8080/",
          "height": 206
        },
        "id": "v0-lK-5vb78w",
        "outputId": "6550d47f-7140-4516-ca5d-e8dd53f38e27"
      },
      "execution_count": 8,
      "outputs": [
        {
          "output_type": "execute_result",
          "data": {
            "text/plain": [
              "                                            headline  clickbait  \\\n",
              "0                                 Should I Get Bings          1   \n",
              "1      Which TV Female Friend Group Do You Belong In          1   \n",
              "2  The New \"Star Wars: The Force Awakens\" Trailer...          1   \n",
              "3  This Vine Of New York On \"Celebrity Big Brothe...          1   \n",
              "4  A Couple Did A Stunning Photo Shoot With Their...          1   \n",
              "\n",
              "                                  headline_processed  \n",
              "0                                 should i get bings  \n",
              "1      which tv female friend group do you belong in  \n",
              "2  the new star wars the force awakens trailer is...  \n",
              "3  this vine of new york on celebrity big brother...  \n",
              "4  a couple did a stunning photo shoot with their...  "
            ],
            "text/html": [
              "\n",
              "  <div id=\"df-b019213e-eb9a-4141-b885-5fea2b14834a\">\n",
              "    <div class=\"colab-df-container\">\n",
              "      <div>\n",
              "<style scoped>\n",
              "    .dataframe tbody tr th:only-of-type {\n",
              "        vertical-align: middle;\n",
              "    }\n",
              "\n",
              "    .dataframe tbody tr th {\n",
              "        vertical-align: top;\n",
              "    }\n",
              "\n",
              "    .dataframe thead th {\n",
              "        text-align: right;\n",
              "    }\n",
              "</style>\n",
              "<table border=\"1\" class=\"dataframe\">\n",
              "  <thead>\n",
              "    <tr style=\"text-align: right;\">\n",
              "      <th></th>\n",
              "      <th>headline</th>\n",
              "      <th>clickbait</th>\n",
              "      <th>headline_processed</th>\n",
              "    </tr>\n",
              "  </thead>\n",
              "  <tbody>\n",
              "    <tr>\n",
              "      <th>0</th>\n",
              "      <td>Should I Get Bings</td>\n",
              "      <td>1</td>\n",
              "      <td>should i get bings</td>\n",
              "    </tr>\n",
              "    <tr>\n",
              "      <th>1</th>\n",
              "      <td>Which TV Female Friend Group Do You Belong In</td>\n",
              "      <td>1</td>\n",
              "      <td>which tv female friend group do you belong in</td>\n",
              "    </tr>\n",
              "    <tr>\n",
              "      <th>2</th>\n",
              "      <td>The New \"Star Wars: The Force Awakens\" Trailer...</td>\n",
              "      <td>1</td>\n",
              "      <td>the new star wars the force awakens trailer is...</td>\n",
              "    </tr>\n",
              "    <tr>\n",
              "      <th>3</th>\n",
              "      <td>This Vine Of New York On \"Celebrity Big Brothe...</td>\n",
              "      <td>1</td>\n",
              "      <td>this vine of new york on celebrity big brother...</td>\n",
              "    </tr>\n",
              "    <tr>\n",
              "      <th>4</th>\n",
              "      <td>A Couple Did A Stunning Photo Shoot With Their...</td>\n",
              "      <td>1</td>\n",
              "      <td>a couple did a stunning photo shoot with their...</td>\n",
              "    </tr>\n",
              "  </tbody>\n",
              "</table>\n",
              "</div>\n",
              "      <button class=\"colab-df-convert\" onclick=\"convertToInteractive('df-b019213e-eb9a-4141-b885-5fea2b14834a')\"\n",
              "              title=\"Convert this dataframe to an interactive table.\"\n",
              "              style=\"display:none;\">\n",
              "        \n",
              "  <svg xmlns=\"http://www.w3.org/2000/svg\" height=\"24px\"viewBox=\"0 0 24 24\"\n",
              "       width=\"24px\">\n",
              "    <path d=\"M0 0h24v24H0V0z\" fill=\"none\"/>\n",
              "    <path d=\"M18.56 5.44l.94 2.06.94-2.06 2.06-.94-2.06-.94-.94-2.06-.94 2.06-2.06.94zm-11 1L8.5 8.5l.94-2.06 2.06-.94-2.06-.94L8.5 2.5l-.94 2.06-2.06.94zm10 10l.94 2.06.94-2.06 2.06-.94-2.06-.94-.94-2.06-.94 2.06-2.06.94z\"/><path d=\"M17.41 7.96l-1.37-1.37c-.4-.4-.92-.59-1.43-.59-.52 0-1.04.2-1.43.59L10.3 9.45l-7.72 7.72c-.78.78-.78 2.05 0 2.83L4 21.41c.39.39.9.59 1.41.59.51 0 1.02-.2 1.41-.59l7.78-7.78 2.81-2.81c.8-.78.8-2.07 0-2.86zM5.41 20L4 18.59l7.72-7.72 1.47 1.35L5.41 20z\"/>\n",
              "  </svg>\n",
              "      </button>\n",
              "      \n",
              "  <style>\n",
              "    .colab-df-container {\n",
              "      display:flex;\n",
              "      flex-wrap:wrap;\n",
              "      gap: 12px;\n",
              "    }\n",
              "\n",
              "    .colab-df-convert {\n",
              "      background-color: #E8F0FE;\n",
              "      border: none;\n",
              "      border-radius: 50%;\n",
              "      cursor: pointer;\n",
              "      display: none;\n",
              "      fill: #1967D2;\n",
              "      height: 32px;\n",
              "      padding: 0 0 0 0;\n",
              "      width: 32px;\n",
              "    }\n",
              "\n",
              "    .colab-df-convert:hover {\n",
              "      background-color: #E2EBFA;\n",
              "      box-shadow: 0px 1px 2px rgba(60, 64, 67, 0.3), 0px 1px 3px 1px rgba(60, 64, 67, 0.15);\n",
              "      fill: #174EA6;\n",
              "    }\n",
              "\n",
              "    [theme=dark] .colab-df-convert {\n",
              "      background-color: #3B4455;\n",
              "      fill: #D2E3FC;\n",
              "    }\n",
              "\n",
              "    [theme=dark] .colab-df-convert:hover {\n",
              "      background-color: #434B5C;\n",
              "      box-shadow: 0px 1px 3px 1px rgba(0, 0, 0, 0.15);\n",
              "      filter: drop-shadow(0px 1px 2px rgba(0, 0, 0, 0.3));\n",
              "      fill: #FFFFFF;\n",
              "    }\n",
              "  </style>\n",
              "\n",
              "      <script>\n",
              "        const buttonEl =\n",
              "          document.querySelector('#df-b019213e-eb9a-4141-b885-5fea2b14834a button.colab-df-convert');\n",
              "        buttonEl.style.display =\n",
              "          google.colab.kernel.accessAllowed ? 'block' : 'none';\n",
              "\n",
              "        async function convertToInteractive(key) {\n",
              "          const element = document.querySelector('#df-b019213e-eb9a-4141-b885-5fea2b14834a');\n",
              "          const dataTable =\n",
              "            await google.colab.kernel.invokeFunction('convertToInteractive',\n",
              "                                                     [key], {});\n",
              "          if (!dataTable) return;\n",
              "\n",
              "          const docLinkHtml = 'Like what you see? Visit the ' +\n",
              "            '<a target=\"_blank\" href=https://colab.research.google.com/notebooks/data_table.ipynb>data table notebook</a>'\n",
              "            + ' to learn more about interactive tables.';\n",
              "          element.innerHTML = '';\n",
              "          dataTable['output_type'] = 'display_data';\n",
              "          await google.colab.output.renderOutput(dataTable, element);\n",
              "          const docLink = document.createElement('div');\n",
              "          docLink.innerHTML = docLinkHtml;\n",
              "          element.appendChild(docLink);\n",
              "        }\n",
              "      </script>\n",
              "    </div>\n",
              "  </div>\n",
              "  "
            ]
          },
          "metadata": {},
          "execution_count": 8
        }
      ]
    },
    {
      "cell_type": "code",
      "source": [
        "# Removing punctuations from the text in 'headline_processed' column to lowercase\n",
        "df1['headline_processed'] = (df1['headline_processed']\n",
        "                             .map(lambda x : re.sub(r'[^\\x00-\\x7F]+', '', x)))\n",
        "df1.head()"
      ],
      "metadata": {
        "colab": {
          "base_uri": "https://localhost:8080/",
          "height": 206
        },
        "id": "uM2f2B-Sb_0h",
        "outputId": "3177f784-d4be-4f7a-bb81-ca4483bb0f01"
      },
      "execution_count": 9,
      "outputs": [
        {
          "output_type": "execute_result",
          "data": {
            "text/plain": [
              "                                            headline  clickbait  \\\n",
              "0                                 Should I Get Bings          1   \n",
              "1      Which TV Female Friend Group Do You Belong In          1   \n",
              "2  The New \"Star Wars: The Force Awakens\" Trailer...          1   \n",
              "3  This Vine Of New York On \"Celebrity Big Brothe...          1   \n",
              "4  A Couple Did A Stunning Photo Shoot With Their...          1   \n",
              "\n",
              "                                  headline_processed  \n",
              "0                                 should i get bings  \n",
              "1      which tv female friend group do you belong in  \n",
              "2  the new star wars the force awakens trailer is...  \n",
              "3  this vine of new york on celebrity big brother...  \n",
              "4  a couple did a stunning photo shoot with their...  "
            ],
            "text/html": [
              "\n",
              "  <div id=\"df-71945286-50d9-4ce2-948a-1ffe85946b06\">\n",
              "    <div class=\"colab-df-container\">\n",
              "      <div>\n",
              "<style scoped>\n",
              "    .dataframe tbody tr th:only-of-type {\n",
              "        vertical-align: middle;\n",
              "    }\n",
              "\n",
              "    .dataframe tbody tr th {\n",
              "        vertical-align: top;\n",
              "    }\n",
              "\n",
              "    .dataframe thead th {\n",
              "        text-align: right;\n",
              "    }\n",
              "</style>\n",
              "<table border=\"1\" class=\"dataframe\">\n",
              "  <thead>\n",
              "    <tr style=\"text-align: right;\">\n",
              "      <th></th>\n",
              "      <th>headline</th>\n",
              "      <th>clickbait</th>\n",
              "      <th>headline_processed</th>\n",
              "    </tr>\n",
              "  </thead>\n",
              "  <tbody>\n",
              "    <tr>\n",
              "      <th>0</th>\n",
              "      <td>Should I Get Bings</td>\n",
              "      <td>1</td>\n",
              "      <td>should i get bings</td>\n",
              "    </tr>\n",
              "    <tr>\n",
              "      <th>1</th>\n",
              "      <td>Which TV Female Friend Group Do You Belong In</td>\n",
              "      <td>1</td>\n",
              "      <td>which tv female friend group do you belong in</td>\n",
              "    </tr>\n",
              "    <tr>\n",
              "      <th>2</th>\n",
              "      <td>The New \"Star Wars: The Force Awakens\" Trailer...</td>\n",
              "      <td>1</td>\n",
              "      <td>the new star wars the force awakens trailer is...</td>\n",
              "    </tr>\n",
              "    <tr>\n",
              "      <th>3</th>\n",
              "      <td>This Vine Of New York On \"Celebrity Big Brothe...</td>\n",
              "      <td>1</td>\n",
              "      <td>this vine of new york on celebrity big brother...</td>\n",
              "    </tr>\n",
              "    <tr>\n",
              "      <th>4</th>\n",
              "      <td>A Couple Did A Stunning Photo Shoot With Their...</td>\n",
              "      <td>1</td>\n",
              "      <td>a couple did a stunning photo shoot with their...</td>\n",
              "    </tr>\n",
              "  </tbody>\n",
              "</table>\n",
              "</div>\n",
              "      <button class=\"colab-df-convert\" onclick=\"convertToInteractive('df-71945286-50d9-4ce2-948a-1ffe85946b06')\"\n",
              "              title=\"Convert this dataframe to an interactive table.\"\n",
              "              style=\"display:none;\">\n",
              "        \n",
              "  <svg xmlns=\"http://www.w3.org/2000/svg\" height=\"24px\"viewBox=\"0 0 24 24\"\n",
              "       width=\"24px\">\n",
              "    <path d=\"M0 0h24v24H0V0z\" fill=\"none\"/>\n",
              "    <path d=\"M18.56 5.44l.94 2.06.94-2.06 2.06-.94-2.06-.94-.94-2.06-.94 2.06-2.06.94zm-11 1L8.5 8.5l.94-2.06 2.06-.94-2.06-.94L8.5 2.5l-.94 2.06-2.06.94zm10 10l.94 2.06.94-2.06 2.06-.94-2.06-.94-.94-2.06-.94 2.06-2.06.94z\"/><path d=\"M17.41 7.96l-1.37-1.37c-.4-.4-.92-.59-1.43-.59-.52 0-1.04.2-1.43.59L10.3 9.45l-7.72 7.72c-.78.78-.78 2.05 0 2.83L4 21.41c.39.39.9.59 1.41.59.51 0 1.02-.2 1.41-.59l7.78-7.78 2.81-2.81c.8-.78.8-2.07 0-2.86zM5.41 20L4 18.59l7.72-7.72 1.47 1.35L5.41 20z\"/>\n",
              "  </svg>\n",
              "      </button>\n",
              "      \n",
              "  <style>\n",
              "    .colab-df-container {\n",
              "      display:flex;\n",
              "      flex-wrap:wrap;\n",
              "      gap: 12px;\n",
              "    }\n",
              "\n",
              "    .colab-df-convert {\n",
              "      background-color: #E8F0FE;\n",
              "      border: none;\n",
              "      border-radius: 50%;\n",
              "      cursor: pointer;\n",
              "      display: none;\n",
              "      fill: #1967D2;\n",
              "      height: 32px;\n",
              "      padding: 0 0 0 0;\n",
              "      width: 32px;\n",
              "    }\n",
              "\n",
              "    .colab-df-convert:hover {\n",
              "      background-color: #E2EBFA;\n",
              "      box-shadow: 0px 1px 2px rgba(60, 64, 67, 0.3), 0px 1px 3px 1px rgba(60, 64, 67, 0.15);\n",
              "      fill: #174EA6;\n",
              "    }\n",
              "\n",
              "    [theme=dark] .colab-df-convert {\n",
              "      background-color: #3B4455;\n",
              "      fill: #D2E3FC;\n",
              "    }\n",
              "\n",
              "    [theme=dark] .colab-df-convert:hover {\n",
              "      background-color: #434B5C;\n",
              "      box-shadow: 0px 1px 3px 1px rgba(0, 0, 0, 0.15);\n",
              "      filter: drop-shadow(0px 1px 2px rgba(0, 0, 0, 0.3));\n",
              "      fill: #FFFFFF;\n",
              "    }\n",
              "  </style>\n",
              "\n",
              "      <script>\n",
              "        const buttonEl =\n",
              "          document.querySelector('#df-71945286-50d9-4ce2-948a-1ffe85946b06 button.colab-df-convert');\n",
              "        buttonEl.style.display =\n",
              "          google.colab.kernel.accessAllowed ? 'block' : 'none';\n",
              "\n",
              "        async function convertToInteractive(key) {\n",
              "          const element = document.querySelector('#df-71945286-50d9-4ce2-948a-1ffe85946b06');\n",
              "          const dataTable =\n",
              "            await google.colab.kernel.invokeFunction('convertToInteractive',\n",
              "                                                     [key], {});\n",
              "          if (!dataTable) return;\n",
              "\n",
              "          const docLinkHtml = 'Like what you see? Visit the ' +\n",
              "            '<a target=\"_blank\" href=https://colab.research.google.com/notebooks/data_table.ipynb>data table notebook</a>'\n",
              "            + ' to learn more about interactive tables.';\n",
              "          element.innerHTML = '';\n",
              "          dataTable['output_type'] = 'display_data';\n",
              "          await google.colab.output.renderOutput(dataTable, element);\n",
              "          const docLink = document.createElement('div');\n",
              "          docLink.innerHTML = docLinkHtml;\n",
              "          element.appendChild(docLink);\n",
              "        }\n",
              "      </script>\n",
              "    </div>\n",
              "  </div>\n",
              "  "
            ]
          },
          "metadata": {},
          "execution_count": 9
        }
      ]
    },
    {
      "cell_type": "code",
      "source": [
        "# Creating new dataframe with processed text and target label\n",
        "df2 = df1[['clickbait', 'headline_processed']]\n",
        "df2.head()"
      ],
      "metadata": {
        "colab": {
          "base_uri": "https://localhost:8080/",
          "height": 206
        },
        "id": "wYFLL3pqc3LL",
        "outputId": "f177343c-bacb-43ff-b3be-3fca5ff6ba3f"
      },
      "execution_count": 10,
      "outputs": [
        {
          "output_type": "execute_result",
          "data": {
            "text/plain": [
              "   clickbait                                 headline_processed\n",
              "0          1                                 should i get bings\n",
              "1          1      which tv female friend group do you belong in\n",
              "2          1  the new star wars the force awakens trailer is...\n",
              "3          1  this vine of new york on celebrity big brother...\n",
              "4          1  a couple did a stunning photo shoot with their..."
            ],
            "text/html": [
              "\n",
              "  <div id=\"df-44deacf4-b384-4096-8f5f-53610b7abd97\">\n",
              "    <div class=\"colab-df-container\">\n",
              "      <div>\n",
              "<style scoped>\n",
              "    .dataframe tbody tr th:only-of-type {\n",
              "        vertical-align: middle;\n",
              "    }\n",
              "\n",
              "    .dataframe tbody tr th {\n",
              "        vertical-align: top;\n",
              "    }\n",
              "\n",
              "    .dataframe thead th {\n",
              "        text-align: right;\n",
              "    }\n",
              "</style>\n",
              "<table border=\"1\" class=\"dataframe\">\n",
              "  <thead>\n",
              "    <tr style=\"text-align: right;\">\n",
              "      <th></th>\n",
              "      <th>clickbait</th>\n",
              "      <th>headline_processed</th>\n",
              "    </tr>\n",
              "  </thead>\n",
              "  <tbody>\n",
              "    <tr>\n",
              "      <th>0</th>\n",
              "      <td>1</td>\n",
              "      <td>should i get bings</td>\n",
              "    </tr>\n",
              "    <tr>\n",
              "      <th>1</th>\n",
              "      <td>1</td>\n",
              "      <td>which tv female friend group do you belong in</td>\n",
              "    </tr>\n",
              "    <tr>\n",
              "      <th>2</th>\n",
              "      <td>1</td>\n",
              "      <td>the new star wars the force awakens trailer is...</td>\n",
              "    </tr>\n",
              "    <tr>\n",
              "      <th>3</th>\n",
              "      <td>1</td>\n",
              "      <td>this vine of new york on celebrity big brother...</td>\n",
              "    </tr>\n",
              "    <tr>\n",
              "      <th>4</th>\n",
              "      <td>1</td>\n",
              "      <td>a couple did a stunning photo shoot with their...</td>\n",
              "    </tr>\n",
              "  </tbody>\n",
              "</table>\n",
              "</div>\n",
              "      <button class=\"colab-df-convert\" onclick=\"convertToInteractive('df-44deacf4-b384-4096-8f5f-53610b7abd97')\"\n",
              "              title=\"Convert this dataframe to an interactive table.\"\n",
              "              style=\"display:none;\">\n",
              "        \n",
              "  <svg xmlns=\"http://www.w3.org/2000/svg\" height=\"24px\"viewBox=\"0 0 24 24\"\n",
              "       width=\"24px\">\n",
              "    <path d=\"M0 0h24v24H0V0z\" fill=\"none\"/>\n",
              "    <path d=\"M18.56 5.44l.94 2.06.94-2.06 2.06-.94-2.06-.94-.94-2.06-.94 2.06-2.06.94zm-11 1L8.5 8.5l.94-2.06 2.06-.94-2.06-.94L8.5 2.5l-.94 2.06-2.06.94zm10 10l.94 2.06.94-2.06 2.06-.94-2.06-.94-.94-2.06-.94 2.06-2.06.94z\"/><path d=\"M17.41 7.96l-1.37-1.37c-.4-.4-.92-.59-1.43-.59-.52 0-1.04.2-1.43.59L10.3 9.45l-7.72 7.72c-.78.78-.78 2.05 0 2.83L4 21.41c.39.39.9.59 1.41.59.51 0 1.02-.2 1.41-.59l7.78-7.78 2.81-2.81c.8-.78.8-2.07 0-2.86zM5.41 20L4 18.59l7.72-7.72 1.47 1.35L5.41 20z\"/>\n",
              "  </svg>\n",
              "      </button>\n",
              "      \n",
              "  <style>\n",
              "    .colab-df-container {\n",
              "      display:flex;\n",
              "      flex-wrap:wrap;\n",
              "      gap: 12px;\n",
              "    }\n",
              "\n",
              "    .colab-df-convert {\n",
              "      background-color: #E8F0FE;\n",
              "      border: none;\n",
              "      border-radius: 50%;\n",
              "      cursor: pointer;\n",
              "      display: none;\n",
              "      fill: #1967D2;\n",
              "      height: 32px;\n",
              "      padding: 0 0 0 0;\n",
              "      width: 32px;\n",
              "    }\n",
              "\n",
              "    .colab-df-convert:hover {\n",
              "      background-color: #E2EBFA;\n",
              "      box-shadow: 0px 1px 2px rgba(60, 64, 67, 0.3), 0px 1px 3px 1px rgba(60, 64, 67, 0.15);\n",
              "      fill: #174EA6;\n",
              "    }\n",
              "\n",
              "    [theme=dark] .colab-df-convert {\n",
              "      background-color: #3B4455;\n",
              "      fill: #D2E3FC;\n",
              "    }\n",
              "\n",
              "    [theme=dark] .colab-df-convert:hover {\n",
              "      background-color: #434B5C;\n",
              "      box-shadow: 0px 1px 3px 1px rgba(0, 0, 0, 0.15);\n",
              "      filter: drop-shadow(0px 1px 2px rgba(0, 0, 0, 0.3));\n",
              "      fill: #FFFFFF;\n",
              "    }\n",
              "  </style>\n",
              "\n",
              "      <script>\n",
              "        const buttonEl =\n",
              "          document.querySelector('#df-44deacf4-b384-4096-8f5f-53610b7abd97 button.colab-df-convert');\n",
              "        buttonEl.style.display =\n",
              "          google.colab.kernel.accessAllowed ? 'block' : 'none';\n",
              "\n",
              "        async function convertToInteractive(key) {\n",
              "          const element = document.querySelector('#df-44deacf4-b384-4096-8f5f-53610b7abd97');\n",
              "          const dataTable =\n",
              "            await google.colab.kernel.invokeFunction('convertToInteractive',\n",
              "                                                     [key], {});\n",
              "          if (!dataTable) return;\n",
              "\n",
              "          const docLinkHtml = 'Like what you see? Visit the ' +\n",
              "            '<a target=\"_blank\" href=https://colab.research.google.com/notebooks/data_table.ipynb>data table notebook</a>'\n",
              "            + ' to learn more about interactive tables.';\n",
              "          element.innerHTML = '';\n",
              "          dataTable['output_type'] = 'display_data';\n",
              "          await google.colab.output.renderOutput(dataTable, element);\n",
              "          const docLink = document.createElement('div');\n",
              "          docLink.innerHTML = docLinkHtml;\n",
              "          element.appendChild(docLink);\n",
              "        }\n",
              "      </script>\n",
              "    </div>\n",
              "  </div>\n",
              "  "
            ]
          },
          "metadata": {},
          "execution_count": 10
        }
      ]
    },
    {
      "cell_type": "code",
      "source": [
        "# shuffling the dataframe so that target class rows are randomly distributed\n",
        "df2 = df2.sample(frac=1).reset_index(drop=True)\n",
        "print(df2.head())\n",
        "print(df2.tail())"
      ],
      "metadata": {
        "colab": {
          "base_uri": "https://localhost:8080/"
        },
        "id": "bTWaDERFdDzx",
        "outputId": "b5dd8525-5bd3-484d-d75c-3e85470874da"
      },
      "execution_count": 11,
      "outputs": [
        {
          "output_type": "stream",
          "name": "stdout",
          "text": [
            "   clickbait                                 headline_processed\n",
            "0          0                nokia launches internet music store\n",
            "1          1  18 pointlessly gendered products thatll destro...\n",
            "2          0              moderate elected president in somalia\n",
            "3          0  faster racing suits may soon be banned from co...\n",
            "4          0       us extends its inquiry of offshore tax fraud\n",
            "       clickbait                                 headline_processed\n",
            "31995          0  tropical storm carlos restrengthens over the p...\n",
            "31996          0  census finds fewer homes have a child in resid...\n",
            "31997          1                a better way to fold a fitted sheet\n",
            "31998          1  24 adorable products every cat lover needs in ...\n",
            "31999          1  halsey opened up about what its like living wi...\n"
          ]
        }
      ]
    },
    {
      "cell_type": "code",
      "source": [
        "# checking the word-length of the longest headline sentence in headline_processed column  \n",
        "longest_headline = max(df2['headline_processed'], key=len)\n",
        "print('Longest Headline: {}'.format(longest_headline))\n",
        "max_len = len(longest_headline.split())\n",
        "print('Total words in longest the headline: {}'.format(max_len))\n",
        "\n",
        "# checking the word-length of the shortest headline sentence in headline_processed column\n",
        "shortest_headline = min(df2['headline_processed'], key=len)\n",
        "print('Shortest Headline: {}'.format(shortest_headline))\n",
        "min_len = len(shortest_headline.split())\n",
        "print('Total Words in shortest the headline: {}'.format(min_len))"
      ],
      "metadata": {
        "colab": {
          "base_uri": "https://localhost:8080/"
        },
        "id": "FDvYwbR-jhwE",
        "outputId": "d698d258-764e-48c4-fdc3-32f07f696f7f"
      },
      "execution_count": 12,
      "outputs": [
        {
          "output_type": "stream",
          "name": "stdout",
          "text": [
            "Longest Headline: common sense advisory announces size of worldwide translation and localization market and ranking of top 20 language services companies\n",
            "Total words in longest the headline: 19\n",
            "Shortest Headline: bfwknd\n",
            "Total Words in shortest the headline: 1\n"
          ]
        }
      ]
    },
    {
      "cell_type": "markdown",
      "source": [
        "### 3. Model Development"
      ],
      "metadata": {
        "id": "wstEIGGtJtCH"
      }
    },
    {
      "cell_type": "markdown",
      "source": [
        "#### 3.1 Dataset transformations and other Utility functions for model development"
      ],
      "metadata": {
        "id": "l0XpzPUXKo0a"
      }
    },
    {
      "cell_type": "code",
      "source": [
        "# splitting model development data into training and testing data\n",
        "X, Y = df2['headline_processed'], df2['clickbait']\n",
        "X_train, X_test, Y_train, Y_test = train_test_split(X, Y, test_size=0.20, random_state=21)"
      ],
      "metadata": {
        "id": "AGA_99dKpKYY"
      },
      "execution_count": 13,
      "outputs": []
    },
    {
      "cell_type": "code",
      "source": [
        "# using tokenizer functionality to create a vocab dictionary\n",
        "top_n_words = 15000\n",
        "tokenizer = Tokenizer(num_words=top_n_words, oov_token = '<OOV>')\n",
        "tokenizer.fit_on_texts(X_train)\n",
        "word_index = tokenizer.word_index\n",
        "vocab_size = len(tokenizer.word_index)\n",
        "print('Total Unique Words = {}'.format(vocab_size))"
      ],
      "metadata": {
        "colab": {
          "base_uri": "https://localhost:8080/"
        },
        "id": "WWsUFvJAkgyA",
        "outputId": "da8984ad-54a9-464d-9508-8e4fd5fdb006"
      },
      "execution_count": 14,
      "outputs": [
        {
          "output_type": "stream",
          "name": "stdout",
          "text": [
            "Total Unique Words = 22216\n"
          ]
        }
      ]
    },
    {
      "cell_type": "code",
      "source": [
        "print('5 most common Key-Value pairs in word_index')\n",
        "print(collections.Counter(word_index).most_common(5))"
      ],
      "metadata": {
        "colab": {
          "base_uri": "https://localhost:8080/"
        },
        "id": "nnGTYYyR3qrp",
        "outputId": "6c3c0e4a-6fa7-4f8f-9ca0-27887ac48889"
      },
      "execution_count": 15,
      "outputs": [
        {
          "output_type": "stream",
          "name": "stdout",
          "text": [
            "5 most common Key-Value pairs in word_index\n",
            "[('resisting', 22216), ('chimp', 22215), ('bonobo', 22214), ('oc', 22213), ('dusk', 22212)]\n"
          ]
        }
      ]
    },
    {
      "cell_type": "code",
      "source": [
        "# converting text data into sequence of numbers using tokenizer reference\n",
        "# padding the sequences so that all training examples have the same length(length of longest sentence)\n",
        " \n",
        "X_train_sequence = tokenizer.texts_to_sequences(X_train)\n",
        "print('First Headline : {}'.format(X_train[0]))\n",
        "print('First Headline as tokenized sequence : {}'.format(X_train_sequence[0]))\n",
        "print('Length before padding:\\nSample 0 = {} and Sample 1 = {}'.format(len(X_train_sequence[0]),\n",
        "                                                                       len(X_train_sequence[1])))\n",
        "X_train_sequence_padded = pad_sequences(X_train_sequence, padding='post', maxlen=max_len)\n",
        "print('First Headline as padded tokenized sequence : {}'.format(X_train_sequence_padded[0]))\n",
        "print('Length after padding:\\nSample 0 = {} and Sample  1= {}'.format(len(X_train_sequence_padded[0]),\n",
        "                                                                      len(X_train_sequence_padded[1])))\n",
        "print('Training sample 0:\\n{}'.format(X_train_sequence_padded[0]))\n",
        "\n",
        "X_test_sequence = tokenizer.texts_to_sequences(X_test)\n",
        "X_test_sequence_padded = pad_sequences(X_test_sequence, padding='post',\n",
        "                                       maxlen=max_len, truncating='post')\n",
        "\n",
        "print('Training tensor dimensions: ', X_train_sequence_padded.shape)\n",
        "print('Testing tensor dimensions: ', X_test_sequence_padded.shape)"
      ],
      "metadata": {
        "colab": {
          "base_uri": "https://localhost:8080/"
        },
        "id": "EZLA_XA7xE0r",
        "outputId": "6ba59305-00c6-4751-814f-fc5d94194715"
      },
      "execution_count": 16,
      "outputs": [
        {
          "output_type": "stream",
          "name": "stdout",
          "text": [
            "First Headline : nokia launches internet music store\n",
            "First Headline as tokenized sequence : [5612, 11677, 53, 11678, 370, 9, 4, 2590, 4335]\n",
            "Length before padding:\n",
            "Sample 0 = 9 and Sample 1 = 8\n",
            "First Headline as padded tokenized sequence : [ 5612 11677    53 11678   370     9     4  2590  4335     0     0     0\n",
            "     0     0     0     0     0     0     0]\n",
            "Length after padding:\n",
            "Sample 0 = 19 and Sample  1= 19\n",
            "Training sample 0:\n",
            "[ 5612 11677    53 11678   370     9     4  2590  4335     0     0     0\n",
            "     0     0     0     0     0     0     0]\n",
            "Training tensor dimensions:  (25600, 19)\n",
            "Testing tensor dimensions:  (6400, 19)\n"
          ]
        }
      ]
    },
    {
      "cell_type": "code",
      "source": [
        "# downloading and saving glove embeddings\n",
        "\n",
        "glove_dictionary = dict()\n",
        "glove_file = open('/content/glove/glove.6B.100d.txt', encoding='utf8')\n",
        "\n",
        "for line in glove_file:\n",
        "    records = line.split()\n",
        "    word = records[0]\n",
        "    vector_dimensions = asarray(records[1:], dtype='float32')\n",
        "    glove_dictionary [word] = vector_dimensions\n",
        "\n",
        "glove_file.close()"
      ],
      "metadata": {
        "id": "IKSli67ZHT-i"
      },
      "execution_count": 17,
      "outputs": []
    },
    {
      "cell_type": "code",
      "source": [
        "# creating a word-embedding matrix from glove-embeddings, with embedding size=100\n",
        "\n",
        "vocab_size = vocab_size + 1\n",
        "embedding_matrix = zeros((vocab_size, 100))\n",
        "for word, index in tokenizer.word_index.items():\n",
        "    embedding_vector = glove_dictionary.get(word)\n",
        "    if embedding_vector is not None:\n",
        "        embedding_matrix[index] = embedding_vector"
      ],
      "metadata": {
        "id": "eV48FZQyHUyb"
      },
      "execution_count": 18,
      "outputs": []
    },
    {
      "cell_type": "code",
      "source": [
        "# function to check model performance on train and test data set\n",
        "\n",
        "def model_performance_plot(model_history, metric, title):\n",
        "  plt.plot(model_history.history['{}'.format(metric)])\n",
        "  plt.plot(model_history.history['val_{}'.format(metric)])\n",
        "  plt.title(title)\n",
        "  plt.ylabel('{}'.format(metric))\n",
        "  plt.xlabel('Epoch')\n",
        "  plt.legend(['Train', 'Test'], loc='upper right')\n",
        "  plt.show()"
      ],
      "metadata": {
        "id": "8gA0h9NN_hHJ"
      },
      "execution_count": 19,
      "outputs": []
    },
    {
      "cell_type": "code",
      "source": [
        "# function to check model performance on test dataset\n",
        "\n",
        "def test_data_performance(mdl, x, y):\n",
        "  result_dictionary = mdl.evaluate(X_test_sequence_padded, Y_test, return_dict=True, verbose=0)\n",
        "  model_performance = pd.DataFrame([result_dictionary.values()], columns=[list(result_dictionary.keys())])\n",
        "  model_performance['loss'] = round((model_performance['loss']),4)\n",
        "  model_performance['accuracy'] = round((model_performance['accuracy'])*100,2)\n",
        "  model_performance.index = ['Value']   \n",
        "  print('Performance on Test data:\\n{}'.format(model_performance))"
      ],
      "metadata": {
        "id": "0hjtfrqf9tQZ"
      },
      "execution_count": 20,
      "outputs": []
    },
    {
      "cell_type": "markdown",
      "source": [
        "#### 3.2.1 Model development without Glove Embedding"
      ],
      "metadata": {
        "id": "o9JXeDmMJ7df"
      }
    },
    {
      "cell_type": "code",
      "source": [
        "#clear state\n",
        "tf.keras.backend.clear_session()\n",
        "np.random.seed(21)"
      ],
      "metadata": {
        "id": "2FJtyeenONvh"
      },
      "execution_count": 21,
      "outputs": []
    },
    {
      "cell_type": "code",
      "source": [
        "# build model : embedding_size=128, 2 layers of LSTM, 64 units in Layer1 and 16 unites in Layer2\n",
        "\n",
        "embedding_size = 128\n",
        "\n",
        "model = Sequential()\n",
        "model.add(Embedding(vocab_size, embedding_size, input_length=max_len))\n",
        "model.add(LSTM(64,return_sequences=True))\n",
        "model.add(LSTM(16))\n",
        "model.add(Dense(1, activation='sigmoid'))\n",
        "\n",
        "model.compile(optimizer='adam', loss='binary_crossentropy', metrics=['accuracy'])\n",
        "\n",
        "print(model.summary())"
      ],
      "metadata": {
        "colab": {
          "base_uri": "https://localhost:8080/"
        },
        "id": "d9-rAJ_M2ifa",
        "outputId": "f7a8ef8e-356f-4b66-a755-f0cbe4b4f6bd"
      },
      "execution_count": 22,
      "outputs": [
        {
          "output_type": "stream",
          "name": "stdout",
          "text": [
            "Model: \"sequential\"\n",
            "_________________________________________________________________\n",
            " Layer (type)                Output Shape              Param #   \n",
            "=================================================================\n",
            " embedding (Embedding)       (None, 19, 128)           2843776   \n",
            "                                                                 \n",
            " lstm (LSTM)                 (None, 19, 64)            49408     \n",
            "                                                                 \n",
            " lstm_1 (LSTM)               (None, 16)                5184      \n",
            "                                                                 \n",
            " dense (Dense)               (None, 1)                 17        \n",
            "                                                                 \n",
            "=================================================================\n",
            "Total params: 2,898,385\n",
            "Trainable params: 2,898,385\n",
            "Non-trainable params: 0\n",
            "_________________________________________________________________\n",
            "None\n"
          ]
        }
      ]
    },
    {
      "cell_type": "code",
      "source": [
        "# fit the model\n",
        "\n",
        "callbacks = EarlyStopping(monitor='val_loss', patience=3)\n",
        "\n",
        "lstm_basic_history = model.fit(X_train_sequence_padded, Y_train, validation_split=0.2,\n",
        "                               epochs=8, batch_size=512, verbose=1, callbacks = callbacks)"
      ],
      "metadata": {
        "colab": {
          "base_uri": "https://localhost:8080/"
        },
        "id": "cFIZ6Ur92icf",
        "outputId": "7ef8a9bd-2350-401f-81c5-f406d1a578d3"
      },
      "execution_count": 23,
      "outputs": [
        {
          "output_type": "stream",
          "name": "stdout",
          "text": [
            "Epoch 1/8\n",
            "40/40 [==============================] - 10s 170ms/step - loss: 0.3832 - accuracy: 0.8251 - val_loss: 0.1224 - val_accuracy: 0.9691\n",
            "Epoch 2/8\n",
            "40/40 [==============================] - 6s 148ms/step - loss: 0.0689 - accuracy: 0.9827 - val_loss: 0.0806 - val_accuracy: 0.9746\n",
            "Epoch 3/8\n",
            "40/40 [==============================] - 6s 148ms/step - loss: 0.0277 - accuracy: 0.9937 - val_loss: 0.0804 - val_accuracy: 0.9717\n",
            "Epoch 4/8\n",
            "40/40 [==============================] - 6s 146ms/step - loss: 0.0123 - accuracy: 0.9978 - val_loss: 0.0981 - val_accuracy: 0.9723\n",
            "Epoch 5/8\n",
            "40/40 [==============================] - 6s 149ms/step - loss: 0.0063 - accuracy: 0.9992 - val_loss: 0.1133 - val_accuracy: 0.9703\n",
            "Epoch 6/8\n",
            "40/40 [==============================] - 6s 146ms/step - loss: 0.0040 - accuracy: 0.9996 - val_loss: 0.1193 - val_accuracy: 0.9717\n"
          ]
        }
      ]
    },
    {
      "cell_type": "markdown",
      "source": [
        "#### 3.2.2 Evaluation for model without Glove Embedding"
      ],
      "metadata": {
        "id": "0px2-dfGLWmh"
      }
    },
    {
      "cell_type": "code",
      "source": [
        "model_performance_plot(lstm_basic_history, 'loss', 'Loss Plot')"
      ],
      "metadata": {
        "id": "-HoxW57L2iTl",
        "colab": {
          "base_uri": "https://localhost:8080/",
          "height": 295
        },
        "outputId": "f134747f-1aeb-4d40-965d-e44df7e5056a"
      },
      "execution_count": 24,
      "outputs": [
        {
          "output_type": "display_data",
          "data": {
            "text/plain": [
              "<Figure size 432x288 with 1 Axes>"
            ],
            "image/png": "[encoded data removed]"
          },
          "metadata": {
            "needs_background": "light"
          }
        }
      ]
    },
    {
      "cell_type": "code",
      "source": [
        "model_performance_plot(lstm_basic_history, 'accuracy', 'Accuracy Plot')"
      ],
      "metadata": {
        "id": "5hWogYtJ2iQo",
        "colab": {
          "base_uri": "https://localhost:8080/",
          "height": 295
        },
        "outputId": "9959f21f-5110-4665-93ba-da844081ed96"
      },
      "execution_count": 25,
      "outputs": [
        {
          "output_type": "display_data",
          "data": {
            "text/plain": [
              "<Figure size 432x288 with 1 Axes>"
            ],
            "image/png": "[encoded data removed]"
          },
          "metadata": {
            "needs_background": "light"
          }
        }
      ]
    },
    {
      "cell_type": "code",
      "source": [
        "test_data_performance(model,X_test_sequence_padded, Y_test)"
      ],
      "metadata": {
        "id": "bFWbLE9i8IZ4",
        "colab": {
          "base_uri": "https://localhost:8080/"
        },
        "outputId": "b6661638-d378-4f5c-8878-16718bc69444"
      },
      "execution_count": 26,
      "outputs": [
        {
          "output_type": "stream",
          "name": "stdout",
          "text": [
            "Performance on Test data:\n",
            "         loss accuracy\n",
            "Value  0.1063    97.48\n"
          ]
        }
      ]
    },
    {
      "cell_type": "markdown",
      "source": [
        "#### 3.3.1 Model development with Glove Embedding"
      ],
      "metadata": {
        "id": "S8xpDnHcKEdM"
      }
    },
    {
      "cell_type": "code",
      "source": [
        "#clear states\n",
        "tf.keras.backend.clear_session()\n",
        "np.random.seed(21)"
      ],
      "metadata": {
        "id": "xIk2LS8jOoOd"
      },
      "execution_count": 27,
      "outputs": []
    },
    {
      "cell_type": "code",
      "source": [
        "# build model : embedding_size=100, 2 layers of LSTM, 64 units in Layer1 and 16 unites in Layer2\n",
        "\n",
        "model = Sequential()\n",
        "model.add(Embedding(vocab_size, 100, input_length=max_len,\n",
        "                    weights=[embedding_matrix], trainable=False))\n",
        "model.add(LSTM(32,return_sequences=True))\n",
        "model.add(LSTM(8))\n",
        "model.add(Dense(1, activation='sigmoid'))\n",
        "model.compile(optimizer='adam', loss='binary_crossentropy', metrics=['accuracy'])\n",
        "\n",
        "print(model.summary())"
      ],
      "metadata": {
        "id": "BeFI1-Xoz2mP",
        "colab": {
          "base_uri": "https://localhost:8080/"
        },
        "outputId": "52dd6935-4d68-4314-b038-e3bf492f5667"
      },
      "execution_count": 28,
      "outputs": [
        {
          "output_type": "stream",
          "name": "stdout",
          "text": [
            "Model: \"sequential\"\n",
            "_________________________________________________________________\n",
            " Layer (type)                Output Shape              Param #   \n",
            "=================================================================\n",
            " embedding (Embedding)       (None, 19, 100)           2221700   \n",
            "                                                                 \n",
            " lstm (LSTM)                 (None, 19, 32)            17024     \n",
            "                                                                 \n",
            " lstm_1 (LSTM)               (None, 8)                 1312      \n",
            "                                                                 \n",
            " dense (Dense)               (None, 1)                 9         \n",
            "                                                                 \n",
            "=================================================================\n",
            "Total params: 2,240,045\n",
            "Trainable params: 18,345\n",
            "Non-trainable params: 2,221,700\n",
            "_________________________________________________________________\n",
            "None\n"
          ]
        }
      ]
    },
    {
      "cell_type": "code",
      "source": [
        "# fit the model\n",
        "\n",
        "callbacks = EarlyStopping(monitor='val_loss', patience=3)\n",
        "\n",
        "lstm_glove_history = model.fit(X_train_sequence_padded, Y_train, validation_split=0.2,\n",
        "                               epochs=8, batch_size=512, verbose=1)"
      ],
      "metadata": {
        "id": "UMRZLaReGJAK",
        "colab": {
          "base_uri": "https://localhost:8080/"
        },
        "outputId": "8d5fdbc6-5d17-4256-c3da-9c6e2b2de518"
      },
      "execution_count": 29,
      "outputs": [
        {
          "output_type": "stream",
          "name": "stdout",
          "text": [
            "Epoch 1/8\n",
            "40/40 [==============================] - 6s 78ms/step - loss: 0.5589 - accuracy: 0.8015 - val_loss: 0.3776 - val_accuracy: 0.9209\n",
            "Epoch 2/8\n",
            "40/40 [==============================] - 2s 57ms/step - loss: 0.2790 - accuracy: 0.9384 - val_loss: 0.2088 - val_accuracy: 0.9494\n",
            "Epoch 3/8\n",
            "40/40 [==============================] - 2s 57ms/step - loss: 0.1799 - accuracy: 0.9554 - val_loss: 0.1597 - val_accuracy: 0.9600\n",
            "Epoch 4/8\n",
            "40/40 [==============================] - 2s 57ms/step - loss: 0.1420 - accuracy: 0.9638 - val_loss: 0.1392 - val_accuracy: 0.9637\n",
            "Epoch 5/8\n",
            "40/40 [==============================] - 2s 57ms/step - loss: 0.1240 - accuracy: 0.9658 - val_loss: 0.1328 - val_accuracy: 0.9623\n",
            "Epoch 6/8\n",
            "40/40 [==============================] - 2s 56ms/step - loss: 0.1110 - accuracy: 0.9695 - val_loss: 0.1342 - val_accuracy: 0.9594\n",
            "Epoch 7/8\n",
            "40/40 [==============================] - 2s 55ms/step - loss: 0.1005 - accuracy: 0.9711 - val_loss: 0.1158 - val_accuracy: 0.9660\n",
            "Epoch 8/8\n",
            "40/40 [==============================] - 2s 55ms/step - loss: 0.0943 - accuracy: 0.9739 - val_loss: 0.1108 - val_accuracy: 0.9676\n"
          ]
        }
      ]
    },
    {
      "cell_type": "markdown",
      "source": [
        "#### 3.3.2 Evaluation for model with Glove Embedding"
      ],
      "metadata": {
        "id": "kMq9a3w-LtlD"
      }
    },
    {
      "cell_type": "code",
      "source": [
        "model_performance_plot(lstm_glove_history, 'loss', 'Loss Plot')"
      ],
      "metadata": {
        "id": "ic7HxPt6JCRY",
        "colab": {
          "base_uri": "https://localhost:8080/",
          "height": 295
        },
        "outputId": "e5839bb7-4b33-410d-fae9-eaf0cf090952"
      },
      "execution_count": 30,
      "outputs": [
        {
          "output_type": "display_data",
          "data": {
            "text/plain": [
              "<Figure size 432x288 with 1 Axes>"
            ],
            "image/png": "[encoded data removed]"
          },
          "metadata": {
            "needs_background": "light"
          }
        }
      ]
    },
    {
      "cell_type": "code",
      "source": [
        "model_performance_plot(lstm_basic_history, 'accuracy', 'Accuracy Plot')"
      ],
      "metadata": {
        "id": "meERMnWyJKsW",
        "colab": {
          "base_uri": "https://localhost:8080/",
          "height": 295
        },
        "outputId": "1f1ff245-0a92-40e8-ba06-04433d5ca728"
      },
      "execution_count": 31,
      "outputs": [
        {
          "output_type": "display_data",
          "data": {
            "text/plain": [
              "<Figure size 432x288 with 1 Axes>"
            ],
            "image/png": "[encoded data removed]"
          },
          "metadata": {
            "needs_background": "light"
          }
        }
      ]
    },
    {
      "cell_type": "code",
      "source": [
        "test_data_performance(model, X_test_sequence_padded, Y_test)"
      ],
      "metadata": {
        "id": "ALGCNHXH-CLz",
        "colab": {
          "base_uri": "https://localhost:8080/"
        },
        "outputId": "fdd32960-6c68-4799-9d2d-1413b5385f08"
      },
      "execution_count": 32,
      "outputs": [
        {
          "output_type": "stream",
          "name": "stdout",
          "text": [
            "Performance on Test data:\n",
            "         loss accuracy\n",
            "Value  0.1044    96.86\n"
          ]
        }
      ]
    }
  ]
}